{
 "cells": [
  {
   "cell_type": "code",
   "execution_count": 1,
   "id": "37678a6e",
   "metadata": {},
   "outputs": [],
   "source": [
    "import pandas as pd\n",
    "import numpy as np\n",
    "from tqdm import tqdm\n",
    "from sentence_transformers import SentenceTransformer"
   ]
  },
  {
   "cell_type": "code",
   "execution_count": 2,
   "id": "51f259ed",
   "metadata": {},
   "outputs": [
    {
     "data": {
      "text/html": [
       "<div>\n",
       "<style scoped>\n",
       "    .dataframe tbody tr th:only-of-type {\n",
       "        vertical-align: middle;\n",
       "    }\n",
       "\n",
       "    .dataframe tbody tr th {\n",
       "        vertical-align: top;\n",
       "    }\n",
       "\n",
       "    .dataframe thead th {\n",
       "        text-align: right;\n",
       "    }\n",
       "</style>\n",
       "<table border=\"1\" class=\"dataframe\">\n",
       "  <thead>\n",
       "    <tr style=\"text-align: right;\">\n",
       "      <th></th>\n",
       "      <th>Category</th>\n",
       "      <th>Sms</th>\n",
       "    </tr>\n",
       "  </thead>\n",
       "  <tbody>\n",
       "    <tr>\n",
       "      <th>0</th>\n",
       "      <td>trust</td>\n",
       "      <td>Nipigie baada ya saa moja, tafadhali.</td>\n",
       "    </tr>\n",
       "    <tr>\n",
       "      <th>1</th>\n",
       "      <td>scam</td>\n",
       "      <td>Naomba unitumie iyo Hela kwenye namba hii ya A...</td>\n",
       "    </tr>\n",
       "    <tr>\n",
       "      <th>2</th>\n",
       "      <td>scam</td>\n",
       "      <td>666,KARIBU FREEMASON UTIMIZE NDOTO KATIKA BIAS...</td>\n",
       "    </tr>\n",
       "    <tr>\n",
       "      <th>3</th>\n",
       "      <td>trust</td>\n",
       "      <td>Watoto wanapenda sana zawadi ulizowaletea.</td>\n",
       "    </tr>\n",
       "    <tr>\n",
       "      <th>4</th>\n",
       "      <td>scam</td>\n",
       "      <td>IYO PESA ITUME KWENYE NAMBA HII 0657538690 JIN...</td>\n",
       "    </tr>\n",
       "  </tbody>\n",
       "</table>\n",
       "</div>"
      ],
      "text/plain": [
       "  Category                                                Sms\n",
       "0    trust              Nipigie baada ya saa moja, tafadhali.\n",
       "1     scam  Naomba unitumie iyo Hela kwenye namba hii ya A...\n",
       "2     scam  666,KARIBU FREEMASON UTIMIZE NDOTO KATIKA BIAS...\n",
       "3    trust         Watoto wanapenda sana zawadi ulizowaletea.\n",
       "4     scam  IYO PESA ITUME KWENYE NAMBA HII 0657538690 JIN..."
      ]
     },
     "execution_count": 2,
     "metadata": {},
     "output_type": "execute_result"
    }
   ],
   "source": [
    "df = pd.read_csv('../artifacts/data_ingestion/bongo_scam.csv')\n",
    "df.head()"
   ]
  },
  {
   "cell_type": "code",
   "execution_count": 3,
   "id": "7289091b",
   "metadata": {},
   "outputs": [],
   "source": [
    "# load the multilingual BERT model\n",
    "model = SentenceTransformer('sentence-transformers/LaBSE')"
   ]
  },
  {
   "cell_type": "markdown",
   "id": "cac9e566",
   "metadata": {},
   "source": [
    "Now that the model is loaded, we need to generate the embeddings. These embeddings will then be fed to another model downstream to perform the actual classification."
   ]
  },
  {
   "cell_type": "code",
   "execution_count": 4,
   "id": "af50156c",
   "metadata": {},
   "outputs": [
    {
     "name": "stdout",
     "output_type": "stream",
     "text": [
      "Generating embeddings...\n"
     ]
    },
    {
     "name": "stderr",
     "output_type": "stream",
     "text": [
      "100%|██████████| 48/48 [00:04<00:00,  9.84it/s]\n"
     ]
    }
   ],
   "source": [
    "def generate_embeddings_batch(texts, batch_size=32) -> np.ndarray:\n",
    "    \"\"\"Generate embeddings in batches to manage memory\"\"\"\n",
    "    all_embeddings = []\n",
    "    \n",
    "    for i in tqdm(range(0, len(texts), batch_size)):\n",
    "        batch = texts[i:i + batch_size]\n",
    "        embeddings = model.encode(batch)\n",
    "        all_embeddings.append(embeddings)\n",
    "        \n",
    "    return np.vstack(all_embeddings)\n",
    "\n",
    "# Generate embeddings for all SMS\n",
    "print(\"Generating embeddings...\")\n",
    "X = generate_embeddings_batch(df['Sms'].tolist())\n",
    "y = (df['Category'] == 'scam').astype(int)  # Convert labels to binary"
   ]
  },
  {
   "cell_type": "code",
   "execution_count": 5,
   "id": "88cf2dea",
   "metadata": {},
   "outputs": [],
   "source": [
    "## Generate the train-test split\n",
    "from sklearn.model_selection import train_test_split\n",
    "X_train, X_test, y_train, y_test = train_test_split(X, y, test_size=0.2, random_state=42, stratify=y)"
   ]
  },
  {
   "cell_type": "code",
   "execution_count": 6,
   "id": "65c44dfe",
   "metadata": {},
   "outputs": [
    {
     "name": "stdout",
     "output_type": "stream",
     "text": [
      "              precision    recall  f1-score   support\n",
      "\n",
      "           0       1.00      1.00      1.00       102\n",
      "           1       1.00      1.00      1.00       200\n",
      "\n",
      "    accuracy                           1.00       302\n",
      "   macro avg       1.00      1.00      1.00       302\n",
      "weighted avg       1.00      1.00      1.00       302\n",
      "\n"
     ]
    }
   ],
   "source": [
    "## Train a basic logistic regression model. Use a cross-validation strategy to evaluate the model\n",
    "from sklearn.linear_model import LogisticRegression\n",
    "from sklearn.metrics import classification_report\n",
    "\n",
    "clf = LogisticRegression(max_iter=100)\n",
    "clf.fit(X_train, y_train)\n",
    "\n",
    "## Generate a classification report\n",
    "y_pred = clf.predict(X_test)\n",
    "print(classification_report(y_test, y_pred))\n",
    "\n"
   ]
  },
  {
   "cell_type": "code",
   "execution_count": 7,
   "id": "7559a24d",
   "metadata": {},
   "outputs": [
    {
     "name": "stdout",
     "output_type": "stream",
     "text": [
      "[[102   0]\n",
      " [  0 200]]\n"
     ]
    }
   ],
   "source": [
    "## Generate a confusion matrix\n",
    "from sklearn.metrics import confusion_matrix\n",
    "\n",
    "cm = confusion_matrix(y_test, y_pred)\n",
    "print(cm)\n"
   ]
  },
  {
   "cell_type": "code",
   "execution_count": 17,
   "id": "f7244b2d",
   "metadata": {},
   "outputs": [
    {
     "name": "stdout",
     "output_type": "stream",
     "text": [
      "[1]\n",
      "[[0.11013348 0.88986652]]\n"
     ]
    }
   ],
   "source": [
    "## Test the model on a new spam SMS that I received recently. \n",
    "new_sms = \"HELLO. Ungana na wakenya wengi wanoSHINDA katika PICK A BOX.2024 END YEAR Bonus NI from 50,000. BONYEZA *201# BILA Credo upick BOX YAKO.STOP *456*9*5#\"\n",
    "new_sms_embedding = model.encode([new_sms])\n",
    "prediction = clf.predict(new_sms_embedding)\n",
    "probability = clf.predict_proba(new_sms_embedding)\n",
    "print(prediction)\n",
    "print(probability)"
   ]
  },
  {
   "cell_type": "code",
   "execution_count": 19,
   "id": "cedeaf51",
   "metadata": {},
   "outputs": [
    {
     "name": "stdout",
     "output_type": "stream",
     "text": [
      "[0]\n",
      "[[0.88813314 0.11186686]]\n"
     ]
    }
   ],
   "source": [
    "## Test the model on a new ham SMS that I received recently. \n",
    "new_sms = \"Leo siko kazi.\"\n",
    "new_sms_embedding = model.encode([new_sms])\n",
    "prediction = clf.predict(new_sms_embedding)\n",
    "probability = clf.predict_proba(new_sms_embedding)\n",
    "print(prediction)\n",
    "print(probability)\n"
   ]
  },
  {
   "cell_type": "markdown",
   "id": "99c66e1b",
   "metadata": {},
   "source": [
    "A simple logistic regression model seems to work excellently with the embeddings from the multilingual BERT model. No need for more complex models for this dataset."
   ]
  }
 ],
 "metadata": {
  "kernelspec": {
   "display_name": "swahili_spam",
   "language": "python",
   "name": "python3"
  },
  "language_info": {
   "codemirror_mode": {
    "name": "ipython",
    "version": 3
   },
   "file_extension": ".py",
   "mimetype": "text/x-python",
   "name": "python",
   "nbconvert_exporter": "python",
   "pygments_lexer": "ipython3",
   "version": "3.10.16"
  }
 },
 "nbformat": 4,
 "nbformat_minor": 5
}
